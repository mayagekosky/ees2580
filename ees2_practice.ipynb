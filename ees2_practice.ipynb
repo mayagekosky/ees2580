{
  "cells": [
    {
      "cell_type": "markdown",
      "metadata": {
        "id": "IUYHSwatZre0"
      },
      "source": [
        "# Python Lesson 2 Practice assignment\n"
      ]
    },
    {
      "cell_type": "markdown",
      "metadata": {
        "id": "lEhFDxa-Z3i1"
      },
      "source": [
        "1. Import the value of `pi` from the math module so that you don't have to specify the module name when you want to use the value. . Write a script to calculate the circumference of a circle with a diameter of 3. If you don't remember how to calculate circumference, Google it."
      ]
    },
    {
      "cell_type": "code",
      "execution_count": 2,
      "metadata": {},
      "outputs": [
        {
          "name": "stdout",
          "output_type": "stream",
          "text": [
            "The circumference of the circle is: 9.42477796076938\n"
          ]
        }
      ],
      "source": [
        "from math import pi \n",
        "\n",
        "diameter = 3 \n",
        "circumference = pi * diameter\n",
        "\n",
        "print(\"The circumference of the circle is:\", circumference)\n"
      ]
    },
    {
      "cell_type": "markdown",
      "metadata": {
        "id": "skYsCZYpaPwY"
      },
      "source": [
        "2. Modify the previous script to allow the user to input their own diameter. Don't forget that the `input()` function returns strings, not numbers."
      ]
    },
    {
      "cell_type": "code",
      "execution_count": 3,
      "metadata": {},
      "outputs": [
        {
          "name": "stdout",
          "output_type": "stream",
          "text": [
            "The circumference of the circle is: 15.707963267948966\n"
          ]
        }
      ],
      "source": [
        "diameter = int(input(\"Enter the diameter: \"))\n",
        "circumference = pi * diameter \n",
        "\n",
        "print(\"The circumference of the circle is:\", circumference)\n"
      ]
    },
    {
      "cell_type": "markdown",
      "metadata": {
        "id": "BHKDQqoUaZSt"
      },
      "source": [
        "3. When describing angles, Python measures angles in radians, where 180 degrees = pi radian. That is, divide the angle in degrees by 180, then multiply by pi. Import the `cos()` function from the math module so that you don't have to specify the module name when you want to use the function. Since most people aren't familiar with radians, write a script that will allow a user to input an angle in degrees, convert the degrees to radians, then calculate the cosine of the input angle. Test your script with 45 degrees, whose cosine is 0.70710678118 ."
      ]
    },
    {
      "cell_type": "code",
      "execution_count": 10,
      "metadata": {},
      "outputs": [
        {
          "name": "stdout",
          "output_type": "stream",
          "text": [
            "The cosine of 35 degrees is: 0.8191520442889918\n"
          ]
        }
      ],
      "source": [
        "from math import cos\n",
        "\n",
        "degrees = int(input(\"Enter the degrees of an angle: \"))\n",
        "radians = (degrees / 180) * pi \n",
        "cosine = cos(radians) \n",
        "\n",
        "print(\"The cosine of\", degrees, \"degrees is:\", cosine)\n"
      ]
    },
    {
      "cell_type": "markdown",
      "metadata": {
        "id": "h33-p1sqbYCC"
      },
      "source": [
        "4. Rewrite the previous script, but this time import the `radians()` function from the `math` module and nest it inside the `cos()` function to do the conversion."
      ]
    },
    {
      "cell_type": "code",
      "execution_count": 13,
      "metadata": {},
      "outputs": [
        {
          "name": "stdout",
          "output_type": "stream",
          "text": [
            "The cosine of 35 degrees is: 0.8191520442889918\n"
          ]
        }
      ],
      "source": [
        "from math import cos, radians\n",
        "\n",
        "degrees = int(input(\"Enter the degrees of an angle: \"))\n",
        "cosine = cos(radians(degrees))\n",
        "\n",
        "print(\"The cosine of\", degrees, \"degrees is:\", cosine)     "
      ]
    },
    {
      "cell_type": "markdown",
      "metadata": {
        "id": "bMtFUDDEcEFF"
      },
      "source": [
        "5. **Case insensitivity**. It is often useful to check a user's input without concern for capitalization. The easiest way to do that is to convert what the user entered into all lower case, then check for equivalence with an all lower-case string. Write a script that lets the user input a string, then print the boolean result for comparing whether their string was equal to the string `sister` with any kind of capitalization."
      ]
    },
    {
      "cell_type": "code",
      "execution_count": 18,
      "metadata": {
        "id": "dHUBsIZScVqj"
      },
      "outputs": [
        {
          "name": "stdout",
          "output_type": "stream",
          "text": [
            "True\n"
          ]
        }
      ],
      "source": [
        "user_input = input(\"Enter a string: \")\n",
        "result = user_input.lower() == \"sister\"\n",
        "\n",
        "print(result)\n"
      ]
    },
    {
      "cell_type": "markdown",
      "metadata": {
        "id": "nmtkAciicXlA"
      },
      "source": [
        "6. The `time()` funtion (no arguments) from the `time` module gives the number of seconds since the midnight before January 1, 1970. Determine how long it takes the user to enter something (or just press the `Enter`/`return` key) by finding the difference in time from before the input statement and after it. (Hint: \"save\" the starting and ending times by assigning them to variables.) You can turn this into a reaction time tester by having one person click the run button and another person press the `Enter` key as soon as they see or hear the first person click the run icon. You can also see how long it takes Python to execute a code block by putting your two `time` assignment statements at the beginning and end of a code block."
      ]
    },
    {
      "cell_type": "code",
      "execution_count": 21,
      "metadata": {
        "id": "T_AF2trydJat"
      },
      "outputs": [
        {
          "name": "stdout",
          "output_type": "stream",
          "text": [
            "Time spent: 9.051435947418213 seconds\n"
          ]
        }
      ],
      "source": [
        "import time\n",
        "\n",
        "# Observe starting time\n",
        "start_time = time.time()\n",
        "\n",
        "# Ask the user for input\n",
        "user_input = input(\"Enter something: \")\n",
        "\n",
        "# Observe ending time\n",
        "end_time = time.time()\n",
        "\n",
        "# Calculate the time spent \n",
        "time_spent = end_time - start_time\n",
        "\n",
        "print(\"Time spent:\", time_spent, \"seconds\")\n"
      ]
    },
    {
      "cell_type": "markdown",
      "metadata": {},
      "source": [
        "7. Assign a URL (including the `http://` or `https://` part) to a variable, then use the `.split()` method to break the URL into pieces based on the position of `/` characters. Note: select and copy a URL from the URL bar of a browser to get the full URL. What is the index number for the list item that contains the domain name (e.g. `vanderbilt.edu` or `calendar.google.com`)? Write your answer as a comment in your code. Write an expression for the domain name, and print it."
      ]
    },
    {
      "cell_type": "code",
      "execution_count": 25,
      "metadata": {},
      "outputs": [
        {
          "name": "stdout",
          "output_type": "stream",
          "text": [
            "Domain name: calendar.google.com\n"
          ]
        }
      ],
      "source": [
        "url = 'http://calendar.google.com'\n",
        "\n",
        "# Split the URL into pieces based on '/'\n",
        "url_parts = url.split('/')\n",
        "\n",
        "# The index number for the list item that contains the domain name is 2\n",
        "# The domain name can be accessed using index 2\n",
        "domain_name = url_parts[2]\n",
        "\n",
        "print(\"Domain name:\", domain_name)\n"
      ]
    },
    {
      "cell_type": "markdown",
      "metadata": {},
      "source": [
        "8. If you have a domain name like `vanderbilt.edu`, `www.library.vanderbilt.edu`, or `calendar.google.com`, how can you determine how many parts it has that are separated by periods (dots)? (Hint: first split it into a list.) In the code cell, use a general expression for the last part of any domain name (`com`, `edu`, `org`, etc.) to print that last part for a domain name input by the user. \n",
        "\n",
        "Edit this cell and write your answer to the question here: last part of www.library.vanderbilt.edu is edu.\n",
        "\n",
        "\n",
        "Put the code you write in the following cell."
      ]
    },
    {
      "cell_type": "code",
      "execution_count": 26,
      "metadata": {},
      "outputs": [
        {
          "name": "stdout",
          "output_type": "stream",
          "text": [
            "Number of parts: 4\n",
            "Last part: edu\n"
          ]
        }
      ],
      "source": [
        "domain_name = input(\"Enter a domain name: \")\n",
        "parts = domain_name.split('.')\n",
        "num_parts = len(parts)\n",
        "last_part = parts[-1]\n",
        "\n",
        "print(\"Number of parts:\", num_parts)\n",
        "print(\"Last part:\", last_part)\n"
      ]
    },
    {
      "cell_type": "markdown",
      "metadata": {},
      "source": [
        "9. Write a script that instantiates the fruit basket list, allows a user to type in a fruit, then add the fruit they typed in to the end of the list."
      ]
    },
    {
      "cell_type": "code",
      "execution_count": 31,
      "metadata": {},
      "outputs": [
        {
          "name": "stdout",
          "output_type": "stream",
          "text": [
            "Fruit basket: ['watermelon', 'honeydew', 'stawberry']\n"
          ]
        }
      ],
      "source": [
        "fruit_basket = [\"watermelon\", \"honeydew\"]\n",
        "\n",
        "fruit = input(\"Enter your favorite fruit: \")\n",
        "fruit_basket.append(fruit)\n",
        "\n",
        "print(\"Fruit basket:\", fruit_basket)"
      ]
    },
    {
      "cell_type": "markdown",
      "metadata": {},
      "source": [
        "10. Modify the previous script to pick a random fruit from the list, remove it from the list, tell the user that they can’t have that fruit, then print the new list without the fruit you removed."
      ]
    },
    {
      "cell_type": "code",
      "execution_count": 32,
      "metadata": {},
      "outputs": [
        {
          "name": "stdout",
          "output_type": "stream",
          "text": [
            "You can't have watermelon\n",
            "New fruit basket: ['honeydew', 'stawberry']\n"
          ]
        }
      ],
      "source": [
        "import random\n",
        "\n",
        "fruit_basket = ['watermelon', 'honeydew', 'stawberry']\n",
        "\n",
        "# Pick a random fruit from the list\n",
        "random_fruit = random.choice(fruit_basket)\n",
        "\n",
        "# Remove the random fruit from the list\n",
        "fruit_basket.remove(random_fruit)\n",
        "\n",
        "# Tell the user they can't have the random fruit\n",
        "print(\"You can't have\", random_fruit)\n",
        "\n",
        "# Print the new list without the removed fruit\n",
        "print(\"New fruit basket:\", fruit_basket)\n"
      ]
    },
    {
      "cell_type": "markdown",
      "metadata": {},
      "source": [
        "11. The file [mesa_prcp_by_month.](https://github.com/HeardLibrary/digital-scholarship/blob/master/data/codegraf/mesa_prcp_by_month.txt) contains the average precipitation by month in mm for Mesa, Arizona, with each value on a separate line terminated by a newline character. Use the `get()` function from the requests module to retrieve the data and extract the text into a variable containing a single text string. Split the string by newline (`\\n`) characters into a list that contains each value. Non-rhetorical question: Can you use the `max()` function to determine the number in the list? If so, do it in your script. If not, explain why in a comment in the script. The URL to access the data is in the starter code below."
      ]
    },
    {
      "cell_type": "code",
      "execution_count": 35,
      "metadata": {},
      "outputs": [
        {
          "name": "stdout",
          "output_type": "stream",
          "text": [
            "The maximum number is: 29.2\n"
          ]
        }
      ],
      "source": [
        "import requests\n",
        "\n",
        "url = 'https://raw.githubusercontent.com/HeardLibrary/digital-scholarship/master/data/codegraf/mesa_prcp_by_month.txt'\n",
        "response = requests.get(url)\n",
        "\n",
        "# Split the response text into lines and convert each line to a float\n",
        "data = [float(line) for line in response.text.split('\\n') if line]\n",
        "\n",
        "# Use the max function to find the maximum number\n",
        "max_number = max(data)\n",
        "\n",
        "print(\"The maximum number is:\", max_number)"
      ]
    }
  ],
  "metadata": {
    "colab": {
      "provenance": []
    },
    "kernelspec": {
      "display_name": "Python 3",
      "name": "python3"
    },
    "language_info": {
      "codemirror_mode": {
        "name": "ipython",
        "version": 3
      },
      "file_extension": ".py",
      "mimetype": "text/x-python",
      "name": "python",
      "nbconvert_exporter": "python",
      "pygments_lexer": "ipython3",
      "version": "3.12.2"
    }
  },
  "nbformat": 4,
  "nbformat_minor": 0
}
