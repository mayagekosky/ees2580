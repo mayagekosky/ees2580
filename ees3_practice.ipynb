{
  "cells": [
    {
      "cell_type": "markdown",
      "metadata": {
        "id": "zN05IqpfJhj7"
      },
      "source": [
        "# Python Lesson 3 Practice Assignment"
      ]
    },
    {
      "cell_type": "markdown",
      "metadata": {
        "id": "BNdYqS4jmKae"
      },
      "source": [
        "1. Create a dictionary where the keys are the names of months and the values are the number of days in that month. Allow a user to enter the name of a month and print the number of days in that month. Create appropriate prompts and print statements so the user knows what to do and can interpret the response."
      ]
    },
    {
      "cell_type": "code",
      "execution_count": 11,
      "metadata": {},
      "outputs": [
        {
          "name": "stdout",
          "output_type": "stream",
          "text": [
            "There are 31 days in May\n"
          ]
        }
      ],
      "source": [
        "month_dict = {\n",
        "    'January': 31,\n",
        "    'February': 28,\n",
        "    'March': 31,\n",
        "    'April': 30,\n",
        "    'May': 31,\n",
        "    'June': 30,\n",
        "    'July': 31,\n",
        "    'August': 31,\n",
        "    'September': 30,\n",
        "    'October': 31,\n",
        "    'November': 30,\n",
        "    'December': 31\n",
        "}\n",
        "User_input = input(\"Enter a month: \")\n",
        "if User_input in month_dict:\n",
        "    print(\"There are\" , month_dict[User_input] , \"days in\" , User_input)\n"
      ]
    },
    {
      "cell_type": "markdown",
      "metadata": {
        "id": "Vp8JnbYGmPqK"
      },
      "source": [
        "2. Using the statement that creates the dictionary that is a catolog of items (below), create another dictionary with exactly the same items and keys, but for which the values are prices as decimal numbers. Let the user type in a catalog number, then print the name of the item and its price. Prepend a dollar sign `$` to the price before printing, but don’t include the dollar sign in the dictionary."
      ]
    },
    {
      "cell_type": "code",
      "execution_count": 14,
      "metadata": {
        "id": "aXrJZenqmXBz"
      },
      "outputs": [
        {
          "name": "stdout",
          "output_type": "stream",
          "text": [
            "The item smoke shifter has a price of $450.00\n"
          ]
        }
      ],
      "source": [
        "catalog = {'1008':'widget', '2149':'flange', '19x5':'smoke shifter', '992':'poiuyt'}\n",
        "price_dict = {}\n",
        "for catalog_number, item_name in catalog.items():\n",
        "    price = float(input(f\"Enter the price for {item_name}: \"))\n",
        "    price_dict[catalog_number] = price\n",
        "\n",
        "user_input = input(\"Enter a catalog number: \")\n",
        "if user_input in price_dict:\n",
        "    item_name = catalog[user_input]\n",
        "    price = price_dict[user_input]\n",
        "    print(f\"The item {item_name} has a price of ${price:.2f}\")\n"
      ]
    },
    {
      "cell_type": "markdown",
      "metadata": {
        "id": "nMH9zpRWmX_C"
      },
      "source": [
        "3. Modify the last program to convert the price of the selected item to euros (you may need to look up the exchange rate). Add an additional statement to print the price in euros, prepending the Unicode string for the euro sign (`\\u20AC`) to the numeric price. Make the print statement work so that there is no space between the euro sign and the price."
      ]
    },
    {
      "cell_type": "code",
      "execution_count": 23,
      "metadata": {
        "id": "cjIz7SCrmb2G"
      },
      "outputs": [
        {
          "name": "stdout",
          "output_type": "stream",
          "text": [
            "The item smoke shifter has a price of €412.92\n"
          ]
        }
      ],
      "source": [
        "exchange_rate = 0.9176\n",
        "price_in_euros = price * exchange_rate\n",
        "print(f\"The item {item_name} has a price of \\u20AC{price_in_euros:.2f}\")\n"
      ]
    },
    {
      "cell_type": "markdown",
      "metadata": {},
      "source": [
        "4. Convert the catalog dictionary in problem 2 to a pandas Series. Using `.loc`, print the name of the item with catalog number `19x5`. Then, using `.iloc`, print the name of the second item in the list."
      ]
    },
    {
      "cell_type": "code",
      "execution_count": 24,
      "metadata": {},
      "outputs": [
        {
          "name": "stdout",
          "output_type": "stream",
          "text": [
            "smoke shifter\n",
            "flange\n"
          ]
        }
      ],
      "source": [
        "import pandas as pd\n",
        "catalog_series = pd.Series(catalog)\n",
        "\n",
        "# Using .loc to print the name of the item with catalog number '19x5'\n",
        "print(catalog_series.loc['19x5'])\n",
        "\n",
        "# Using .iloc to print the name of the second item in the list\n",
        "print(catalog_series.iloc[1])"
      ]
    },
    {
      "cell_type": "markdown",
      "metadata": {},
      "source": [
        "5. Convert the two dictionaries in problem 2 to a pandas DataFrame using `pd.DataFrame`. Display the DataFrame below the cell in tabular form."
      ]
    },
    {
      "cell_type": "code",
      "execution_count": 25,
      "metadata": {},
      "outputs": [
        {
          "data": {
            "text/html": [
              "<div>\n",
              "<style scoped>\n",
              "    .dataframe tbody tr th:only-of-type {\n",
              "        vertical-align: middle;\n",
              "    }\n",
              "\n",
              "    .dataframe tbody tr th {\n",
              "        vertical-align: top;\n",
              "    }\n",
              "\n",
              "    .dataframe thead th {\n",
              "        text-align: right;\n",
              "    }\n",
              "</style>\n",
              "<table border=\"1\" class=\"dataframe\">\n",
              "  <thead>\n",
              "    <tr style=\"text-align: right;\">\n",
              "      <th></th>\n",
              "      <th>Catalog Number</th>\n",
              "      <th>Price</th>\n",
              "    </tr>\n",
              "  </thead>\n",
              "  <tbody>\n",
              "    <tr>\n",
              "      <th>0</th>\n",
              "      <td>1008</td>\n",
              "      <td>3.25</td>\n",
              "    </tr>\n",
              "    <tr>\n",
              "      <th>1</th>\n",
              "      <td>2149</td>\n",
              "      <td>5.00</td>\n",
              "    </tr>\n",
              "    <tr>\n",
              "      <th>2</th>\n",
              "      <td>19x5</td>\n",
              "      <td>450.00</td>\n",
              "    </tr>\n",
              "    <tr>\n",
              "      <th>3</th>\n",
              "      <td>992</td>\n",
              "      <td>600.00</td>\n",
              "    </tr>\n",
              "  </tbody>\n",
              "</table>\n",
              "</div>"
            ],
            "text/plain": [
              "  Catalog Number   Price\n",
              "0           1008    3.25\n",
              "1           2149    5.00\n",
              "2           19x5  450.00\n",
              "3            992  600.00"
            ]
          },
          "execution_count": 25,
          "metadata": {},
          "output_type": "execute_result"
        }
      ],
      "source": [
        "import pandas as pd\n",
        "\n",
        "catalog_df = pd.DataFrame(list(catalog.items()), columns=['Catalog Number', 'Item Name'])\n",
        "price_df = pd.DataFrame(list(price_dict.items()), columns=['Catalog Number', 'Price'])\n",
        "\n",
        "catalog_df\n",
        "price_df"
      ]
    },
    {
      "cell_type": "markdown",
      "metadata": {},
      "source": [
        "6. Using the DataFrame you just created, print the Series for the price column. Then print the Series for the catalog number 2149 row."
      ]
    },
    {
      "cell_type": "code",
      "execution_count": 43,
      "metadata": {},
      "outputs": [
        {
          "name": "stdout",
          "output_type": "stream",
          "text": [
            "0      3.25\n",
            "1      5.00\n",
            "2    450.00\n",
            "3    600.00\n",
            "Name: Price, dtype: float64\n",
            "The price of the second item on the list is $5.00\n"
          ]
        }
      ],
      "source": [
        "price_series = price_df['Price']\n",
        "print(price_series)\n",
        "print(\"The price of the second item on the list is ${:.2f}\".format(price_series[1]))"
      ]
    },
    {
      "cell_type": "markdown",
      "metadata": {
        "id": "KFePud4QffsM"
      },
      "source": [
        "7. The second line of code below reads in a CSV containing climate data: the average precipitation and temperature for months the year 1879 in Mesa, Arizona. Display the first 6 rows of the DataFrame below the cell in tabular form. \n",
        "\n",
        "In the following code cell, print the following:\n",
        "- the data for March 1879 (as a Series).\n",
        "- the average temperture for July 1879.\n"
      ]
    },
    {
      "cell_type": "code",
      "execution_count": 57,
      "metadata": {
        "id": "atDG3hlpf45z"
      },
      "outputs": [
        {
          "name": "stdout",
          "output_type": "stream",
          "text": [
            "        ppt  tavg\n",
            "month            \n",
            "Jan    92.8  12.1\n",
            "Feb    19.1  10.1\n",
            "Mar    18.2  11.8\n",
            "Apr     0.0  19.2\n",
            "May     4.1  25.0\n",
            "Jun     0.0  28.1\n",
            " \n",
            "March's data for 1879 is below:\n",
            "ppt     18.2\n",
            "tavg    11.8\n",
            "Name: Mar, dtype: float64\n",
            " \n",
            "The average temperature for July is: 32.4\n"
          ]
        }
      ],
      "source": [
        "import pandas as pd\n",
        "climate = pd.read_csv('https://github.com/HeardLibrary/digital-scholarship/raw/master/data/codegraf/mesa_climate.csv')\n",
        "\n",
        "# Set the row index to be the 'month' column\n",
        "climate = climate.set_index('month')\n",
        "\n",
        "# Display the first 6 rows of the DataFrame\n",
        "print(climate.head(6))\n",
        "\n",
        "print(\" \")\n",
        "print(\"March's data for 1879 is below:\")\n",
        "\n",
        "march_data = climate.loc['Mar']\n",
        "print(march_data)\n",
        "\n",
        "print(\" \")\n",
        "\n",
        "july_avg_temp = climate.loc['Jul', 'tavg']\n",
        "print(\"The average temperature for July is:\", july_avg_temp)\n"
      ]
    },
    {
      "cell_type": "markdown",
      "metadata": {
        "id": "MKRMPaKAmcYX"
      },
      "source": [
        "8. Create a list that contains the names of the days of the week. Using a `for` loop, print the days of the week."
      ]
    },
    {
      "cell_type": "code",
      "execution_count": 67,
      "metadata": {
        "id": "LtbTwWfgmh_Y"
      },
      "outputs": [
        {
          "name": "stdout",
          "output_type": "stream",
          "text": [
            "Monday\n",
            "Tuesday\n",
            "Wednesday\n",
            "Thursday\n",
            "Friday\n",
            "Saturday\n",
            "Sunday\n"
          ]
        }
      ],
      "source": [
        "days_of_week = ['Monday', 'Tuesday', 'Wednesday', 'Thursday', 'Friday', 'Saturday', 'Sunday']\n",
        "\n",
        "for day in days_of_week:\n",
        "    print(day)\n"
      ]
    },
    {
      "cell_type": "markdown",
      "metadata": {
        "id": "GsibOFKHhpBe"
      },
      "source": [
        "9. Using a `for` loop and the `.iterrows` method, print the month abbreviation and average temperature in Mesa for each month in 1879 together on the same line. (Remember that the month abbreviation is now the index for the row.) To make the output clearer, print a header explaining what the columns are before you print the values."
      ]
    },
    {
      "cell_type": "code",
      "execution_count": 59,
      "metadata": {
        "id": "XCLatK9SiPTo"
      },
      "outputs": [
        {
          "name": "stdout",
          "output_type": "stream",
          "text": [
            "Month Abbreviation\tAverage Temperature\n",
            "Jan\t\t\t12.1\n",
            "Feb\t\t\t10.1\n",
            "Mar\t\t\t11.8\n",
            "Apr\t\t\t19.2\n",
            "May\t\t\t25.0\n",
            "Jun\t\t\t28.1\n",
            "Jul\t\t\t32.4\n",
            "Aug\t\t\t32.2\n",
            "Sep\t\t\t28.2\n",
            "Oct\t\t\t19.5\n",
            "Nov\t\t\t14.5\n",
            "Dec\t\t\t8.7\n"
          ]
        }
      ],
      "source": [
        "print(\"Month Abbreviation\\tAverage Temperature\")\n",
        "for index, row in climate.iterrows():\n",
        "    print(f\"{index}\\t\\t\\t{row['tavg']}\")\n"
      ]
    },
    {
      "cell_type": "markdown",
      "metadata": {
        "id": "yzBbdFRViQB9"
      },
      "source": [
        "10. Create a variable called `sum` and set its value to zero. Create a `for` loop that steps through each month and adds the precipitation value for each month to the `sum` variable. Recall that\n",
        "\n",
        "```\n",
        "sum += number\n",
        "```\n",
        "\n",
        "is a shortcut for\n",
        "\n",
        "```\n",
        "sum = sum + number\n",
        "```\n",
        "\n",
        "After you add up all of the values, print the value of the average precipitation for all months of the year. (Don't worry about weighting the monthly values by the length of the month.)"
      ]
    },
    {
      "cell_type": "code",
      "execution_count": 62,
      "metadata": {
        "id": "L54PPx1bjXHG"
      },
      "outputs": [
        {
          "name": "stdout",
          "output_type": "stream",
          "text": [
            "The average precipitation for all months of the year is: 19.04\n"
          ]
        }
      ],
      "source": [
        "total_precipitation = 0\n",
        "\n",
        "for index, row in climate.iterrows():\n",
        "    total_precipitation += row['ppt']\n",
        "\n",
        "average_precipitation = total_precipitation / len(climate)\n",
        "print(\"The average precipitation for all months of the year is:\", round(average_precipitation, 2))\n"
      ]
    },
    {
      "cell_type": "markdown",
      "metadata": {},
      "source": [
        "11. Because pandas is designed for vectorized operations, there is an easier way to find the average precipitation for all of the months. Simply append the `.mean()` method to the precipitation column of the DataFrame. (The mean method does not require any arguments.) Print the result. Is it the same as what you got using the `for` loop?"
      ]
    },
    {
      "cell_type": "code",
      "execution_count": 64,
      "metadata": {},
      "outputs": [
        {
          "name": "stdout",
          "output_type": "stream",
          "text": [
            "The average precipitation for all months of the year is: 19.04\n"
          ]
        }
      ],
      "source": [
        "average_precipitation_pandas = climate['ppt'].mean()\n",
        "print(\"The average precipitation for all months of the year is:\", round(average_precipitation_pandas, 2))\n"
      ]
    }
  ],
  "metadata": {
    "colab": {
      "provenance": []
    },
    "kernelspec": {
      "display_name": "Python 3",
      "name": "python3"
    },
    "language_info": {
      "codemirror_mode": {
        "name": "ipython",
        "version": 3
      },
      "file_extension": ".py",
      "mimetype": "text/x-python",
      "name": "python",
      "nbconvert_exporter": "python",
      "pygments_lexer": "ipython3",
      "version": "3.12.2"
    }
  },
  "nbformat": 4,
  "nbformat_minor": 0
}
